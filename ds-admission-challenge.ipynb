{
 "cells": [
  {
   "cell_type": "code",
   "execution_count": 5,
   "id": "184d3363-6cc4-48d5-94fc-d2731d88c9d3",
   "metadata": {},
   "outputs": [],
   "source": [
    "import pandas as pd"
   ]
  },
  {
   "cell_type": "markdown",
   "id": "f47e5cfa-6444-40e6-8ea9-52f61c060dfc",
   "metadata": {},
   "source": [
    "# First: Load the csv file into a Pandas dataframe (df)\n"
   ]
  },
  {
   "cell_type": "code",
   "execution_count": 33,
   "id": "e4eaaad3-ee03-4b12-b9be-b5085b41bf88",
   "metadata": {},
   "outputs": [],
   "source": [
    "df = pd.read_csv('~/Desktop/results.csv')"
   ]
  },
  {
   "cell_type": "markdown",
   "id": "7af5ed35-f60a-44d8-a273-179a2cc55428",
   "metadata": {},
   "source": [
    "# Explore the df"
   ]
  },
  {
   "cell_type": "code",
   "execution_count": 37,
   "id": "da2b925f-2323-408f-99a9-1e7f166f21d0",
   "metadata": {},
   "outputs": [
    {
     "name": "stdout",
     "output_type": "stream",
     "text": [
      "<class 'pandas.core.frame.DataFrame'>\n",
      "RangeIndex: 45315 entries, 0 to 45314\n",
      "Data columns (total 9 columns):\n",
      " #   Column      Non-Null Count  Dtype \n",
      "---  ------      --------------  ----- \n",
      " 0   date        45315 non-null  object\n",
      " 1   home_team   45315 non-null  object\n",
      " 2   away_team   45315 non-null  object\n",
      " 3   home_score  45315 non-null  int64 \n",
      " 4   away_score  45315 non-null  int64 \n",
      " 5   tournament  45315 non-null  object\n",
      " 6   city        45315 non-null  object\n",
      " 7   country     45315 non-null  object\n",
      " 8   neutral     45315 non-null  bool  \n",
      "dtypes: bool(1), int64(2), object(6)\n",
      "memory usage: 2.8+ MB\n"
     ]
    }
   ],
   "source": [
    "df.info()"
   ]
  },
  {
   "cell_type": "markdown",
   "id": "68cd27e6-9e77-4edf-9d9d-bf0d5c8f937d",
   "metadata": {},
   "source": [
    "Q1: What is the average number of goals for the home team?"
   ]
  },
  {
   "cell_type": "code",
   "execution_count": 58,
   "id": "cf159052-d785-4822-8c87-6c864613a87b",
   "metadata": {},
   "outputs": [],
   "source": [
    "average_homescore = df['home_score'].mean()"
   ]
  },
  {
   "cell_type": "code",
   "execution_count": 60,
   "id": "1a9fbb54-2b1d-42eb-a42d-4e53186c37e6",
   "metadata": {},
   "outputs": [
    {
     "name": "stdout",
     "output_type": "stream",
     "text": [
      "Average number of goals for the home team: 1.7393136930376256\n"
     ]
    }
   ],
   "source": [
    "print(\"Average number of goals for the home team:\", average_homescore)"
   ]
  },
  {
   "cell_type": "markdown",
   "id": "b508e0cc-0aa5-4b51-914b-3a5281381700",
   "metadata": {},
   "source": [
    "Q2: What is the average number of goals for the away team?"
   ]
  },
  {
   "cell_type": "code",
   "execution_count": 67,
   "id": "e26549cc-f6e6-451a-a838-0a5d49b2f056",
   "metadata": {},
   "outputs": [],
   "source": [
    "average_awayscore = df['away_score'].mean()"
   ]
  },
  {
   "cell_type": "code",
   "execution_count": 69,
   "id": "649804ef-8b5c-4084-a18b-b5777b51e096",
   "metadata": {},
   "outputs": [
    {
     "name": "stdout",
     "output_type": "stream",
     "text": [
      "Average number of goals for the away team: 1.1782412004854905\n"
     ]
    }
   ],
   "source": [
    "print(\"Average number of goals for the away team:\", average_awayscore)"
   ]
  },
  {
   "cell_type": "markdown",
   "id": "78b3bf33-5f8a-426a-86a4-826bab9d4a60",
   "metadata": {},
   "source": [
    "Q3: What is the country with the highest overall home score?"
   ]
  },
  {
   "cell_type": "code",
   "execution_count": 72,
   "id": "1d38fe6e-4bda-4f27-be44-3b7188002f71",
   "metadata": {},
   "outputs": [],
   "source": [
    "top_tournaments = df['tournament'].value_counts().head(3)\n"
   ]
  },
  {
   "cell_type": "code",
   "execution_count": 74,
   "id": "039a93de-cdb8-4140-9293-6c16652021b9",
   "metadata": {},
   "outputs": [
    {
     "name": "stdout",
     "output_type": "stream",
     "text": [
      "Top 3 types of tournaments:\n"
     ]
    }
   ],
   "source": [
    "print(\"Top 3 types of tournaments:\")"
   ]
  },
  {
   "cell_type": "code",
   "execution_count": 76,
   "id": "234c6c00-d400-49f3-b660-b559b9776629",
   "metadata": {},
   "outputs": [
    {
     "name": "stdout",
     "output_type": "stream",
     "text": [
      "tournament\n",
      "Friendly                        17773\n",
      "FIFA World Cup qualification     8016\n",
      "UEFA Euro qualification          2815\n",
      "Name: count, dtype: int64\n"
     ]
    }
   ],
   "source": [
    "print(top_tournaments)\n"
   ]
  },
  {
   "cell_type": "markdown",
   "id": "a36defcd-4d6e-4824-b0cd-d7c66ffdf655",
   "metadata": {},
   "source": [
    "Q5: Which country has the highest overall FIFA World Cup goals?"
   ]
  },
  {
   "cell_type": "markdown",
   "id": "d6efdfd5-7e63-4656-ac2a-aa8e839ff081",
   "metadata": {},
   "source": [
    "5.1 Create a new dataframe (fifa_df) that only contains rows where the \"tournament\" column == 'FIFA World Cup'."
   ]
  },
  {
   "cell_type": "code",
   "execution_count": 80,
   "id": "d566413e-4f29-45db-b3e6-0294c2684b0c",
   "metadata": {},
   "outputs": [],
   "source": [
    "fifa_df = df[df['tournament'] == 'FIFA World Cup']"
   ]
  },
  {
   "cell_type": "code",
   "execution_count": 82,
   "id": "61082082-055b-4716-8e72-33af6422241b",
   "metadata": {},
   "outputs": [
    {
     "name": "stdout",
     "output_type": "stream",
     "text": [
      "            date  home_team      away_team  home_score  away_score  \\\n",
      "1311  1930-07-13    Belgium  United States           0           3   \n",
      "1312  1930-07-13     France         Mexico           4           1   \n",
      "1313  1930-07-14     Brazil     Yugoslavia           1           2   \n",
      "1314  1930-07-14       Peru        Romania           1           3   \n",
      "1315  1930-07-15  Argentina         France           1           0   \n",
      "\n",
      "          tournament        city  country  neutral  \n",
      "1311  FIFA World Cup  Montevideo  Uruguay     True  \n",
      "1312  FIFA World Cup  Montevideo  Uruguay     True  \n",
      "1313  FIFA World Cup  Montevideo  Uruguay     True  \n",
      "1314  FIFA World Cup  Montevideo  Uruguay     True  \n",
      "1315  FIFA World Cup  Montevideo  Uruguay     True  \n"
     ]
    }
   ],
   "source": [
    "print(fifa_df.head())"
   ]
  },
  {
   "cell_type": "markdown",
   "id": "32278317-0fda-4a79-a1b3-18bddc26a7c0",
   "metadata": {},
   "source": [
    "5.2 In your new fifadf, create a new 'totalscore' column that sums _'homescore' + _'awayscore' for each row."
   ]
  },
  {
   "cell_type": "code",
   "execution_count": 95,
   "id": "dcb6e0d7-6808-41c3-ad88-50fae52bc3dc",
   "metadata": {},
   "outputs": [],
   "source": [
    "fifa_df.loc[:, 'totalscore'] = fifa_df['home_score'] + fifa_df['away_score']"
   ]
  },
  {
   "cell_type": "code",
   "execution_count": 97,
   "id": "93510e3f-80ff-46d7-b87e-f9beebd5735a",
   "metadata": {},
   "outputs": [
    {
     "name": "stdout",
     "output_type": "stream",
     "text": [
      "            date  home_team      away_team  home_score  away_score  \\\n",
      "1311  1930-07-13    Belgium  United States           0           3   \n",
      "1312  1930-07-13     France         Mexico           4           1   \n",
      "1313  1930-07-14     Brazil     Yugoslavia           1           2   \n",
      "1314  1930-07-14       Peru        Romania           1           3   \n",
      "1315  1930-07-15  Argentina         France           1           0   \n",
      "\n",
      "          tournament        city  country  neutral  totalscore  \n",
      "1311  FIFA World Cup  Montevideo  Uruguay     True           3  \n",
      "1312  FIFA World Cup  Montevideo  Uruguay     True           5  \n",
      "1313  FIFA World Cup  Montevideo  Uruguay     True           3  \n",
      "1314  FIFA World Cup  Montevideo  Uruguay     True           4  \n",
      "1315  FIFA World Cup  Montevideo  Uruguay     True           1  \n"
     ]
    }
   ],
   "source": [
    "print(fifa_df.head())"
   ]
  },
  {
   "cell_type": "markdown",
   "id": "bc7e3092-29eb-4a21-88fd-cff57238a77c",
   "metadata": {},
   "source": [
    "5.3 Group your data by country, then get the sum of the _'totalscore' column. From there, you can use idxmax() to find the country with the highest _'totalscore'."
   ]
  },
  {
   "cell_type": "code",
   "execution_count": 100,
   "id": "83a88cb8-f1be-45b8-8641-2daeaacaa833",
   "metadata": {},
   "outputs": [],
   "source": [
    "country_totals = fifa_df.groupby('country')['totalscore'].sum()"
   ]
  },
  {
   "cell_type": "code",
   "execution_count": 102,
   "id": "fbff548f-7b7f-4d33-a4a9-d243ca9f947d",
   "metadata": {},
   "outputs": [],
   "source": [
    "highest_goals_country = country_totals.idxmax()"
   ]
  },
  {
   "cell_type": "code",
   "execution_count": 104,
   "id": "e7411f3f-fb7b-492c-896c-cf3fb680ffcf",
   "metadata": {},
   "outputs": [],
   "source": [
    "highest_goals = country_totals.max()"
   ]
  },
  {
   "cell_type": "code",
   "execution_count": 106,
   "id": "b28f3be2-6d60-45a8-a591-5480df3bc90d",
   "metadata": {},
   "outputs": [
    {
     "name": "stdout",
     "output_type": "stream",
     "text": [
      "Country with the highest overall FIFA World Cup goals: Brazil\n"
     ]
    }
   ],
   "source": [
    "print(\"Country with the highest overall FIFA World Cup goals:\", highest_goals_country)"
   ]
  },
  {
   "cell_type": "code",
   "execution_count": 108,
   "id": "d2caecaf-7c91-4db2-a981-1276aa6cbfdf",
   "metadata": {},
   "outputs": [
    {
     "name": "stdout",
     "output_type": "stream",
     "text": [
      "Total goals: 259\n"
     ]
    }
   ],
   "source": [
    "print(\"Total goals:\", highest_goals)"
   ]
  }
 ],
 "metadata": {
  "kernelspec": {
   "display_name": "Python 3 (ipykernel)",
   "language": "python",
   "name": "python3"
  },
  "language_info": {
   "codemirror_mode": {
    "name": "ipython",
    "version": 3
   },
   "file_extension": ".py",
   "mimetype": "text/x-python",
   "name": "python",
   "nbconvert_exporter": "python",
   "pygments_lexer": "ipython3",
   "version": "3.12.4"
  }
 },
 "nbformat": 4,
 "nbformat_minor": 5
}
